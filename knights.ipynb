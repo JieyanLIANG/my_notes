{
 "cells": [
  {
   "cell_type": "code",
   "execution_count": 1,
   "metadata": {
    "collapsed": true
   },
   "outputs": [],
   "source": [
    "# 骑士问题\n",
    "# Author: Yunqiu Xu\n",
    "\n",
    "# 问题描述:\n",
    "# 给定一个棋盘, 其中大于1的位置是骑士可以到达的,\n",
    "# 骑士可以走日字格, 类似中国象棋中的马,\n",
    "# 先要求输出到达全部可到达位置所需的最小骑士数量\n",
    "\n",
    "# 思路:\n",
    "# 树的先根次序遍历,对每个新骑士找到其可以一步到达的所有结点\n",
    "# 对这些结点进行递归,进而得到该骑士可以到达的所有结点"
   ]
  },
  {
   "cell_type": "code",
   "execution_count": 2,
   "metadata": {
    "collapsed": true
   },
   "outputs": [],
   "source": [
    "# 测试用例:\n",
    "grid=[\n",
    "[0, 0, 1, 0, 0, 0, 0, 0, 0, 0],\n",
    "[0, 0, 0, 0, 0, 0, 2, 0, 0, 0],\n",
    "[0, 0, 0, 0, 2, 0, 2, 0, 0, 0],\n",
    "[0, 2, 0, 0, 0, 0, 0, 0, 0, 0],\n",
    "[0, 0, 0, 2, 0, 2, 3, 0, 0, 0],\n",
    "[0, 0, 2, 0, 0, 0, 0, 0, 0, 0],\n",
    "[2, 0, 0, 0, 0, 0, 0, 0, 4, 5],\n",
    "[0, 0, 0, 2, 0, 0, 0, 0, 6, 0],\n",
    "[0, 0, 0, 0, 0, 0, 0, 0, 5, 0],\n",
    "[0, 0, 0, 0, 0, 0, 0, 0, 7, 0]\n",
    "]"
   ]
  },
  {
   "cell_type": "code",
   "execution_count": 7,
   "metadata": {
    "collapsed": true
   },
   "outputs": [],
   "source": [
    "# Method 1:\n",
    "# 首先另外创建一个矩阵用于存放标签\n",
    "# 对于0标签为\"0\"\n",
    "# 对于还未到达过的结点标签为\"Unexplored\"\n",
    "# 对于已经到达过的结点标签为\"Explored\"\n",
    "def exploreMatrix(grid):\n",
    "    labeledGrid= [[None] * 10 for _ in range(10)]\n",
    "    for i in range(10):\n",
    "        for j in range(10):\n",
    "            if grid[i][j] > 0:\n",
    "                labeledGrid[i][j] = \"Unexplored\"\n",
    "            else:\n",
    "                labeledGrid[i][j] = \"0\"\n",
    "    return labeledGrid"
   ]
  },
  {
   "cell_type": "code",
   "execution_count": 8,
   "metadata": {
    "collapsed": true
   },
   "outputs": [],
   "source": [
    "labeledGrid=exploreMatrix(grid)"
   ]
  },
  {
   "cell_type": "code",
   "execution_count": 9,
   "metadata": {
    "collapsed": false
   },
   "outputs": [
    {
     "name": "stdout",
     "output_type": "stream",
     "text": [
      "['0', '0', 'Unexplored', '0', '0', '0', '0', '0', '0', '0']\n",
      "['0', '0', '0', '0', '0', '0', 'Unexplored', '0', '0', '0']\n",
      "['0', '0', '0', '0', 'Unexplored', '0', 'Unexplored', '0', '0', '0']\n",
      "['0', 'Unexplored', '0', '0', '0', '0', '0', '0', '0', '0']\n",
      "['0', '0', '0', 'Unexplored', '0', 'Unexplored', 'Unexplored', '0', '0', '0']\n",
      "['0', '0', 'Unexplored', '0', '0', '0', '0', '0', '0', '0']\n",
      "['Unexplored', '0', '0', '0', '0', '0', '0', '0', 'Unexplored', 'Unexplored']\n",
      "['0', '0', '0', 'Unexplored', '0', '0', '0', '0', 'Unexplored', '0']\n",
      "['0', '0', '0', '0', '0', '0', '0', '0', 'Unexplored', '0']\n",
      "['0', '0', '0', '0', '0', '0', '0', '0', 'Unexplored', '0']\n"
     ]
    }
   ],
   "source": [
    "for item in labeledGrid:\n",
    "    print item"
   ]
  },
  {
   "cell_type": "code",
   "execution_count": 10,
   "metadata": {
    "collapsed": true
   },
   "outputs": [],
   "source": [
    "# Method 2:\n",
    "# 主方法, 返回最小需要的骑士数量\n",
    "# 当某个点大于0且标签为\"Unexplored\",为该点新增一个骑士\n",
    "# 使用getAllDestinations(i,j)计算该骑士可以到达的所有点,并将这些点的标签改为\"Explored\"\n",
    "def exploreBoard():\n",
    "    knight = 0\n",
    "    for i in range(10):\n",
    "        for j in range(10):\n",
    "            if grid[i][j]>0 and labeledGrid[i][j]=='Unexplored':\n",
    "                print \"g[{}][{}] is a new knight!\".format(i,j)\n",
    "                yunqiu=getAllDestinations(i, j)\n",
    "                knight+=1\n",
    "    return knight"
   ]
  },
  {
   "cell_type": "code",
   "execution_count": 11,
   "metadata": {
    "collapsed": true
   },
   "outputs": [],
   "source": [
    "# Method 3:\n",
    "# 返回(i,j)点新骑士能到达的所有点,将这些点的标签改为\"Explored\"\n",
    "def getAllDestinations(i,j):\n",
    "    # 将新骑士的位置先加入结果集\n",
    "    resultList=[(i,j)]\n",
    "    labeledGrid[i][j]='Explored'\n",
    "    iChoices=[1,2,2,1,-1,-2,-2,-1]\n",
    "    jChoices=[2,1,-1,-2,-2,-1,1,2]\n",
    "    for k in range(8):\n",
    "        # 该骑士一步可以到达的点\n",
    "        ik=i+iChoices[k]\n",
    "        jk=j+jChoices[k]\n",
    "        if 0<=ik<10 and 0<=jk<10 and grid[ik][jk]>0 and labeledGrid[ik][jk]==\"Unexplored\":\n",
    "            print \"This knight can reach ({},{})\".format(ik,jk)\n",
    "            # 使用递归, 计算该新点可以到达的所有点,形成一个子集\n",
    "            subResult=getAllDestinations(ik,jk)\n",
    "            # 将该子集中不存在于结果集的点加入结果集\n",
    "            for item in subResult:\n",
    "                if item not in resultList:\n",
    "                    resultList.append(item)\n",
    "    return resultList"
   ]
  },
  {
   "cell_type": "code",
   "execution_count": 12,
   "metadata": {
    "collapsed": false
   },
   "outputs": [
    {
     "name": "stdout",
     "output_type": "stream",
     "text": [
      "g[0][2] is a new knight!\n",
      "g[1][6] is a new knight!\n",
      "This knight can reach (2,4)\n",
      "This knight can reach (4,5)\n",
      "This knight can reach (2,6)\n",
      "This knight can reach (4,3)\n",
      "This knight can reach (3,1)\n",
      "This knight can reach (5,2)\n",
      "This knight can reach (7,3)\n",
      "This knight can reach (6,0)\n",
      "g[4][6] is a new knight!\n",
      "g[6][8] is a new knight!\n",
      "g[6][9] is a new knight!\n",
      "This knight can reach (8,8)\n",
      "g[7][8] is a new knight!\n",
      "g[9][8] is a new knight!\n"
     ]
    },
    {
     "data": {
      "text/plain": [
       "7"
      ]
     },
     "execution_count": 12,
     "metadata": {},
     "output_type": "execute_result"
    }
   ],
   "source": [
    "# 好的接下来进行测试\n",
    "exploreBoard()"
   ]
  },
  {
   "cell_type": "code",
   "execution_count": 13,
   "metadata": {
    "collapsed": true
   },
   "outputs": [],
   "source": [
    "# 再来一个测试用例\n",
    "grid=[\n",
    "[0,0,1,0,0,0,0,0,0,0],\n",
    "[0,0,0,0,0,0,1,0,0,0],\n",
    "[0,0,0,1,1,0,0,0,1,0],\n",
    "[0,0,0,0,0,0,0,0,0,1],\n",
    "[0,1,1,0,1,0,0,0,0,0],\n",
    "[1,0,0,0,0,0,0,0,1,1],\n",
    "[0,0,0,1,0,0,0,1,0,0],\n",
    "[0,0,0,0,0,0,0,1,0,0],\n",
    "[0,0,0,0,0,0,0,1,0,0],\n",
    "[0,1,1,0,0,1,1,0,0,0],\n",
    "]"
   ]
  },
  {
   "cell_type": "code",
   "execution_count": 15,
   "metadata": {
    "collapsed": false
   },
   "outputs": [],
   "source": [
    "labeledGrid=exploreMatrix(grid)"
   ]
  },
  {
   "cell_type": "code",
   "execution_count": 17,
   "metadata": {
    "collapsed": false
   },
   "outputs": [
    {
     "name": "stdout",
     "output_type": "stream",
     "text": [
      "['0', '0', 'Unexplored', '0', '0', '0', '0', '0', '0', '0']\n",
      "['0', '0', '0', '0', '0', '0', 'Unexplored', '0', '0', '0']\n",
      "['0', '0', '0', 'Unexplored', 'Unexplored', '0', '0', '0', 'Unexplored', '0']\n",
      "['0', '0', '0', '0', '0', '0', '0', '0', '0', 'Unexplored']\n",
      "['0', 'Unexplored', 'Unexplored', '0', 'Unexplored', '0', '0', '0', '0', '0']\n",
      "['Unexplored', '0', '0', '0', '0', '0', '0', '0', 'Unexplored', 'Unexplored']\n",
      "['0', '0', '0', 'Unexplored', '0', '0', '0', 'Unexplored', '0', '0']\n",
      "['0', '0', '0', '0', '0', '0', '0', 'Unexplored', '0', '0']\n",
      "['0', '0', '0', '0', '0', '0', '0', 'Unexplored', '0', '0']\n",
      "['0', 'Unexplored', 'Unexplored', '0', '0', 'Unexplored', 'Unexplored', '0', '0', '0']\n"
     ]
    }
   ],
   "source": [
    "for item in labeledGrid:\n",
    "    print item"
   ]
  },
  {
   "cell_type": "code",
   "execution_count": 18,
   "metadata": {
    "collapsed": false
   },
   "outputs": [
    {
     "name": "stdout",
     "output_type": "stream",
     "text": [
      "g[0][2] is a new knight!\n",
      "This knight can reach (2,3)\n",
      "This knight can reach (4,4)\n",
      "This knight can reach (6,3)\n",
      "This knight can reach (4,2)\n",
      "This knight can reach (5,0)\n",
      "g[1][6] is a new knight!\n",
      "This knight can reach (2,8)\n",
      "This knight can reach (2,4)\n",
      "g[3][9] is a new knight!\n",
      "This knight can reach (5,8)\n",
      "This knight can reach (7,7)\n",
      "This knight can reach (9,6)\n",
      "g[4][1] is a new knight!\n",
      "g[5][9] is a new knight!\n",
      "This knight can reach (6,7)\n",
      "g[8][7] is a new knight!\n",
      "This knight can reach (9,5)\n",
      "g[9][1] is a new knight!\n",
      "g[9][2] is a new knight!\n"
     ]
    },
    {
     "data": {
      "text/plain": [
       "8"
      ]
     },
     "execution_count": 18,
     "metadata": {},
     "output_type": "execute_result"
    }
   ],
   "source": [
    "exploreBoard()"
   ]
  },
  {
   "cell_type": "code",
   "execution_count": 19,
   "metadata": {
    "collapsed": true
   },
   "outputs": [],
   "source": [
    "# 再来一组\n",
    "grid=[\n"
    "[1,1,0,1,1,1,1,1,1,1],\n",
    "[1,0,1,0,1,0,0,1,1,1],\n",
    "[1,1,0,1,0,1,0,1,1,1],\n",
    "[1,0,1,1,1,1,1,0,1,1],\n",
    "[1,1,1,0,1,0,0,1,1,1],\n",
    "[1,1,0,1,1,1,0,1,1,1],\n",
    "[0,0,1,0,0,0,1,1,0,0],\n",
    "[1,1,1,0,1,1,1,1,0,1],\n",
    "[1,1,0,1,1,1,1,1,0,1],\n",
    "[1,1,1,0,1,0,0,0,0,1]]"
   ]
  },
  {
   "cell_type": "code",
   "execution_count": 20,
   "metadata": {
    "collapsed": true
   },
   "outputs": [],
   "source": [
    "labeledGrid=exploreMatrix(grid)"
   ]
  },
  {
   "cell_type": "code",
   "execution_count": 21,
   "metadata": {
    "collapsed": false
   },
   "outputs": [
    {
     "name": "stdout",
     "output_type": "stream",
     "text": [
      "g[0][0] is a new knight!\n",
      "This knight can reach (1,2)\n",
      "This knight can reach (3,3)\n",
      "This knight can reach (5,4)\n",
      "This knight can reach (6,6)\n",
      "This knight can reach (8,7)\n",
      "This knight can reach (9,9)\n",
      "This knight can reach (7,5)\n",
      "This knight can reach (9,4)\n",
      "This knight can reach (8,6)\n",
      "This knight can reach (7,4)\n",
      "This knight can reach (6,2)\n",
      "This knight can reach (8,3)\n",
      "This knight can reach (9,1)\n",
      "This knight can reach (7,0)\n",
      "This knight can reach (5,1)\n",
      "This knight can reach (7,2)\n",
      "This knight can reach (8,4)\n",
      "This knight can reach (9,2)\n",
      "This knight can reach (8,0)\n",
      "This knight can reach (7,1)\n",
      "This knight can reach (9,0)\n",
      "This knight can reach (5,0)\n",
      "This knight can reach (4,2)\n",
      "This knight can reach (3,0)\n",
      "This knight can reach (2,1)\n",
      "This knight can reach (4,0)\n",
      "This knight can reach (3,2)\n",
      "This knight can reach (4,4)\n",
      "This knight can reach (2,3)\n",
      "This knight can reach (3,5)\n",
      "This knight can reach (4,7)\n",
      "This knight can reach (5,9)\n",
      "This knight can reach (6,7)\n",
      "This knight can reach (7,9)\n",
      "This knight can reach (5,8)\n",
      "This knight can reach (7,7)\n",
      "This knight can reach (8,9)\n",
      "This knight can reach (8,5)\n",
      "This knight can reach (3,9)\n",
      "This knight can reach (2,7)\n",
      "This knight can reach (4,8)\n",
      "This knight can reach (3,6)\n",
      "This knight can reach (5,7)\n",
      "This knight can reach (7,6)\n",
      "This knight can reach (5,5)\n",
      "This knight can reach (3,4)\n",
      "This knight can reach (5,3)\n",
      "This knight can reach (4,1)\n",
      "This knight can reach (2,0)\n",
      "This knight can reach (0,1)\n",
      "This knight can reach (3,8)\n",
      "This knight can reach (1,7)\n",
      "This knight can reach (2,9)\n",
      "This knight can reach (0,8)\n",
      "This knight can reach (2,5)\n",
      "This knight can reach (0,4)\n",
      "This knight can reach (0,6)\n",
      "This knight can reach (1,8)\n",
      "This knight can reach (1,4)\n",
      "This knight can reach (0,5)\n",
      "This knight can reach (0,9)\n",
      "This knight can reach (2,8)\n",
      "This knight can reach (4,9)\n",
      "This knight can reach (0,7)\n",
      "This knight can reach (1,9)\n",
      "This knight can reach (8,1)\n",
      "g[0][3] is a new knight!\n",
      "g[1][0] is a new knight!\n"
     ]
    },
    {
     "data": {
      "text/plain": [
       "3"
      ]
     },
     "execution_count": 21,
     "metadata": {},
     "output_type": "execute_result"
    }
   ],
   "source": [
    "exploreBoard()"
   ]
  }
 ],
 "metadata": {
  "kernelspec": {
   "display_name": "Python [Root]",
   "language": "python",
   "name": "Python [Root]"
  },
  "language_info": {
   "codemirror_mode": {
    "name": "ipython",
    "version": 2
   },
   "file_extension": ".py",
   "mimetype": "text/x-python",
   "name": "python",
   "nbconvert_exporter": "python",
   "pygments_lexer": "ipython2",
   "version": "2.7.12"
  }
 },
 "nbformat": 4,
 "nbformat_minor": 0
}
